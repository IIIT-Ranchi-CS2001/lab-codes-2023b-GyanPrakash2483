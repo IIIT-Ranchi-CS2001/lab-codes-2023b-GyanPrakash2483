{
 "cells": [
  {
   "cell_type": "markdown",
   "metadata": {},
   "source": [
    "1. If the given string S1= “Maha Bharat”, generate the following strings by manipulating S1.\n",
    " - mAHA bHARAT\n",
    " - Bharat\n",
    " - BharatBharatBharat\n",
    " - Mera Bharat\n",
    " - Mera Bharat Mahan\n"
   ]
  },
  {
   "cell_type": "code",
   "execution_count": 10,
   "metadata": {},
   "outputs": [
    {
     "name": "stdout",
     "output_type": "stream",
     "text": [
      "mAHA bHARAT\n",
      "Bharat\n",
      "BharatBharatBharat\n",
      "Mera Bharat\n",
      "Mera Bharat Mahan\n"
     ]
    }
   ],
   "source": [
    "s = \"Maha Bharat\"\n",
    "\n",
    "s1 = s.swapcase()\n",
    "print(s1)\n",
    "\n",
    "s2 = s[5:len(s)]\n",
    "print(s2)\n",
    "\n",
    "s3 = s2 * 3\n",
    "print(s3)\n",
    "\n",
    "s4 = \"Mera \" + s2\n",
    "print(s4)\n",
    "\n",
    "s5 = s4 + \" \" + s[0:4] + \"n\"\n",
    "print(s5)"
   ]
  },
  {
   "cell_type": "markdown",
   "metadata": {},
   "source": [
    "2. For the given string S=”Ba Ba Black Sheep”, determine the following using built in functions:\n",
    " - The length of the string S\n",
    " - The first occurrence of the letter ‘e’\n",
    " - The total number of occurrences of ‘a’\n",
    " - Generate “Ta Ta Black Sheep”\n"
   ]
  },
  {
   "cell_type": "code",
   "execution_count": 19,
   "metadata": {},
   "outputs": [
    {
     "name": "stdout",
     "output_type": "stream",
     "text": [
      "Length of string: 17\n",
      "e appears first at index 14\n",
      "a appears 3 times.\n",
      "Ta Ta Black Sheep\n"
     ]
    }
   ],
   "source": [
    "s = \"Ba Ba Black Sheep\"\n",
    "\n",
    "print(\"Length of string: \" + str(len(s)))\n",
    "print(\"e appears first at index \" + str(s.find(\"e\")))\n",
    "print(\"a appears \" + str(s.count(\"a\")) + \" times.\")\n",
    "ns = \"T\" + s[1:3] + \"T\" + s[4:len(s)]\n",
    "print(ns)"
   ]
  },
  {
   "cell_type": "markdown",
   "metadata": {},
   "source": [
    "3. Write a python script to enter any string at run time and check whether it is a palindrome or not."
   ]
  },
  {
   "cell_type": "code",
   "execution_count": 22,
   "metadata": {},
   "outputs": [
    {
     "name": "stdout",
     "output_type": "stream",
     "text": [
      "The string is a palindrome.\n"
     ]
    }
   ],
   "source": [
    "s = input(\"Enter the string to check\")\n",
    "\n",
    "isPalindrome = True\n",
    "\n",
    "for i in range(0, len(s)):\n",
    "    if(s[i] != s[len(s) - i - 1]):\n",
    "        isPalindrome = False\n",
    "\n",
    "if(isPalindrome):\n",
    "    print(\"The string is a palindrome.\")\n",
    "else:\n",
    "    print(\"The string is not a palindrome.\")"
   ]
  },
  {
   "cell_type": "markdown",
   "metadata": {},
   "source": [
    "4. Enter the following details of a student at run time: - Name, Roll number and marks secured for Mathematics Examination out of 100. Write a python script to display student details as shown:\n",
    "\n",
    "Name:  \n",
    "Roll Number:  \n",
    "Marks:  \n",
    "Grade Point:  \n",
    "Remark:  \n",
    "\n",
    "The criteria for awarding grade point and remark are as given in the table:\n",
    "\n",
    "| S. No. | Range of Marks       | Grade Point | Remark      |\n",
    "| ------ | -------------------- | ----------- | ----------- |\n",
    "| 1.     | >= 90                | 10          | OUTSTANDING |\n",
    "| 2.     | 90 > Marks >= 80     | 9           | VERY GOOD   |\n",
    "| 3.     | 80 > Marks >= 70     | 8           | GOOD        |\n",
    "| 4.     | 70 > Marks >= 60     | 7           | AVERAGE     |\n",
    "| 5.     | 60 > Marks >= 50     | 6           | PASS        |\n",
    "| 6.     | Marks < 50           | 0           | FAIL        |"
   ]
  },
  {
   "cell_type": "code",
   "execution_count": 29,
   "metadata": {},
   "outputs": [
    {
     "name": "stdout",
     "output_type": "stream",
     "text": [
      "Name: Gyan Prakash\n",
      "Roll Number: 18\n",
      "Marks: 100\n",
      "Grade Point: 10\n",
      "Remark: OUTSTANDING\n"
     ]
    }
   ],
   "source": [
    "name = input(\"Enter Name: \")\n",
    "roll = int(input(\"Enter Roll Number: \"))\n",
    "marks = int(input(\"Enter marks obtained: \"))\n",
    "\n",
    "gradepoint = 0\n",
    "remark = \"FAIL\"\n",
    "\n",
    "if(marks >= 90):\n",
    "    gradepoint = 10\n",
    "    remark = \"OUTSTANDING\"\n",
    "elif(marks >= 80):\n",
    "    gradepoint = 9\n",
    "    remark = \"VERY GOOD\"\n",
    "elif(marks >= 70):\n",
    "    gradepoint = 8\n",
    "    remark = \"GOOD\"\n",
    "elif(marks >= 60):\n",
    "    gradepoint = 7\n",
    "    remark = \"AVERAGE\"\n",
    "elif(marks >= 50):\n",
    "    gradepoint = 6\n",
    "    remark = \"PASS\"\n",
    "\n",
    "print(\"Name: \" + name)\n",
    "print(\"Roll Number: \" + str(roll))\n",
    "print(\"Marks: \" + str(marks))\n",
    "print(\"Grade Point: \" + str(gradepoint))\n",
    "print(\"Remark: \" + remark)"
   ]
  },
  {
   "cell_type": "markdown",
   "metadata": {},
   "source": [
    "5. Write a program to find the roots of a quadratic equation when the coefficients a, b and c are given ( assume that a, b and c are integers)  \n",
    "Hint: find the discriminant d= b**2 − 4ac  \n",
    "If d = 0, the equation has one real repeated root (both roots are the same):   \n",
    "    R1= R2 = -b/(2a)  \n",
    "\n",
    "If d > 0, the equation has two distinct real roots.  \n",
    "\tR1= (-b + sqrt(d))/(2a)  \n",
    "    R2= (-b - sqrt(d))/(2a)  \n",
    " \n",
    "If d < 0, the equation has two complex roots.  \n",
    "real_part = -b / (2 * a)  \n",
    "imaginary_part = math.sqrt(-discriminant) / (2 * a)  \n"
   ]
  },
  {
   "cell_type": "code",
   "execution_count": 2,
   "metadata": {},
   "outputs": [
    {
     "name": "stdout",
     "output_type": "stream",
     "text": [
      "Enter Coefficients: \n",
      "Roots are 2j and -2j.\n"
     ]
    }
   ],
   "source": [
    "import math\n",
    "\n",
    "print(\"Enter Coefficients: \")\n",
    "a = int(input(\"Coefficient a: \"))\n",
    "b = int(input(\"Coefficient b: \"))\n",
    "c = int(input(\"Coefficient c: \"))\n",
    "\n",
    "d = b * b - 4 * a * c\n",
    "\n",
    "if(d >= 0):\n",
    "    r1 = (-b + math.sqrt(d)) / (2 * a)\n",
    "    r2 = (-b - math.sqrt(d)) / (2 * a)\n",
    "else:\n",
    "    r1 = complex(-b/2*a, (math.sqrt(-d) / 2 * a))\n",
    "    r2 = complex(-b/2*a, (-math.sqrt(-d) / 2 * a))\n",
    "\n",
    "print(\"Roots are \" + str(r1) + \" and \" + str(r2) + \".\")"
   ]
  }
 ],
 "metadata": {
  "kernelspec": {
   "display_name": "Python 3",
   "language": "python",
   "name": "python3"
  },
  "language_info": {
   "codemirror_mode": {
    "name": "ipython",
    "version": 3
   },
   "file_extension": ".py",
   "mimetype": "text/x-python",
   "name": "python",
   "nbconvert_exporter": "python",
   "pygments_lexer": "ipython3",
   "version": "3.12.3"
  }
 },
 "nbformat": 4,
 "nbformat_minor": 2
}
