{
 "cells": [
  {
   "cell_type": "markdown",
   "metadata": {},
   "source": [
    "1. Write a python script to find the squares of first n natural numbers. Display both the number and the square as shown below. Use while loop\n",
    "\n",
    "| Number    | Square          |\n",
    "|-----------|-----------------|\n",
    "| 1         |   1             |\n",
    "| 2         |   4             |\n",
    "| …\t\t    |   …             |\n",
    "| n\t\t    |   n<sup>2</sup> |"
   ]
  },
  {
   "cell_type": "code",
   "execution_count": 3,
   "metadata": {},
   "outputs": [
    {
     "name": "stdout",
     "output_type": "stream",
     "text": [
      "Number \t Square\n",
      "1\t1\n",
      "2\t4\n",
      "3\t9\n",
      "4\t16\n",
      "5\t25\n",
      "6\t36\n",
      "7\t49\n",
      "8\t64\n"
     ]
    }
   ],
   "source": [
    "num = int(input(\"Enter number: \"))\n",
    "\n",
    "print(\"Number \\t Square\")\n",
    "for i in range(1, num+1):\n",
    "    print(str(i) + \"\\t\" + str(i * i))"
   ]
  },
  {
   "cell_type": "markdown",
   "metadata": {},
   "source": [
    "2. Write a python script to find the sum of the digits of the given number using a while loop. Display the number and the sum."
   ]
  },
  {
   "cell_type": "code",
   "execution_count": 4,
   "metadata": {},
   "outputs": [
    {
     "name": "stdout",
     "output_type": "stream",
     "text": [
      "Number: 148\n",
      "Sum of digits: 13\n"
     ]
    }
   ],
   "source": [
    "num = int(input(\"Enter the number: \"))\n",
    "\n",
    "nc = num\n",
    "sum = 0\n",
    "while(nc > 0):\n",
    "    d = nc % 10\n",
    "    nc //= 10\n",
    "    sum += d\n",
    "\n",
    "print(\"Number: \" + str(num) + \"\\nSum of digits: \" + str(sum))\n"
   ]
  },
  {
   "cell_type": "markdown",
   "metadata": {},
   "source": [
    "3. Write a python script to print the first n terms of the Fibonacci series using while loop"
   ]
  },
  {
   "cell_type": "code",
   "execution_count": 16,
   "metadata": {},
   "outputs": [
    {
     "name": "stdout",
     "output_type": "stream",
     "text": [
      "[0, 1, 1, 2, 3, 5, 8, 13, 21, 34]\n"
     ]
    }
   ],
   "source": [
    "n = int(input(\"Enter number of terms to print: \"))\n",
    "\n",
    "pt = 0\n",
    "ct = 1\n",
    "\n",
    "sequence = [0, 1]\n",
    "\n",
    "if(n == 1):\n",
    "    sequence = [0]\n",
    "\n",
    "for i in range(1, n-1):\n",
    "    nct = pt + ct\n",
    "    pt = ct\n",
    "    ct = nct\n",
    "\n",
    "    sequence.append(ct)\n",
    "\n",
    "print(sequence)\n"
   ]
  },
  {
   "cell_type": "markdown",
   "metadata": {},
   "source": [
    "4. Write a python script to print the multiplication table of a given number up to the specified limit using a for loop."
   ]
  },
  {
   "cell_type": "code",
   "execution_count": 17,
   "metadata": {},
   "outputs": [
    {
     "name": "stdout",
     "output_type": "stream",
     "text": [
      "5 x 1 = 5\n",
      "5 x 2 = 10\n",
      "5 x 3 = 15\n",
      "5 x 4 = 20\n",
      "5 x 5 = 25\n",
      "5 x 6 = 30\n",
      "5 x 7 = 35\n",
      "5 x 8 = 40\n",
      "5 x 9 = 45\n",
      "5 x 10 = 50\n"
     ]
    }
   ],
   "source": [
    "n = int(input(\"Enter the number to print multiplication table of: \"))\n",
    "t = int(input(\"Enter the limit upto which table should be printed: \"))\n",
    "\n",
    "for i in range(1, t+1):\n",
    "    print(str(n) + \" x \" + str(i) + \" = \" + str(n * i))"
   ]
  },
  {
   "cell_type": "markdown",
   "metadata": {},
   "source": [
    "5. Write a python script to check whether all the characters present in a string are alphanumeric (uppercase letters, lowercase letters or digits) using for  with else. Print True if all characters are alphanumeric. Otherwise print False."
   ]
  },
  {
   "cell_type": "code",
   "execution_count": 2,
   "metadata": {},
   "outputs": [
    {
     "name": "stdout",
     "output_type": "stream",
     "text": [
      "False\n"
     ]
    }
   ],
   "source": [
    "string = input(\"Enter the string to check: \")\n",
    "for i in string:\n",
    "    if(i.isalnum()):\n",
    "        pass\n",
    "    else:\n",
    "        print(False)\n",
    "        break\n",
    "else:\n",
    "    print(True)"
   ]
  },
  {
   "cell_type": "markdown",
   "metadata": {},
   "source": [
    "6. Write a python script to find the number of occurrences of a particular character present in the given string using a loop. (Don’t use string methods)."
   ]
  },
  {
   "cell_type": "code",
   "execution_count": 3,
   "metadata": {},
   "outputs": [
    {
     "name": "stdout",
     "output_type": "stream",
     "text": [
      "l appears 3 times in the string.\n"
     ]
    }
   ],
   "source": [
    "string = input(\"Enter the string: \")\n",
    "char = input(\"Enter the character to count\")\n",
    "count = 0\n",
    "for c in string:\n",
    "    if(c == char):\n",
    "        count += 1\n",
    "\n",
    "print(char + \" appears \" + str(count) + \" times in the string.\")"
   ]
  }
 ],
 "metadata": {
  "kernelspec": {
   "display_name": "Python 3",
   "language": "python",
   "name": "python3"
  },
  "language_info": {
   "codemirror_mode": {
    "name": "ipython",
    "version": 3
   },
   "file_extension": ".py",
   "mimetype": "text/x-python",
   "name": "python",
   "nbconvert_exporter": "python",
   "pygments_lexer": "ipython3",
   "version": "3.12.3"
  }
 },
 "nbformat": 4,
 "nbformat_minor": 2
}
