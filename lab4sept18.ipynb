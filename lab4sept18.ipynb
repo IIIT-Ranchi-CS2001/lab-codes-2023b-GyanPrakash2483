{
 "cells": [
  {
   "cell_type": "markdown",
   "metadata": {},
   "source": [
    "1. Find the number of palindrome words in the given sentence without using any function."
   ]
  },
  {
   "cell_type": "code",
   "execution_count": 1,
   "metadata": {},
   "outputs": [
    {
     "name": "stdout",
     "output_type": "stream",
     "text": [
      "There are 2 palindromes in the sentence\n"
     ]
    }
   ],
   "source": [
    "sentence: str = input(\"Enter the sentence: \")\n",
    "words: list = sentence.split(\" \")\n",
    "\n",
    "count: int = 0\n",
    "\n",
    "for word in words:\n",
    "    isPalindrome: bool = True\n",
    "    for i in range(0, len(word)):\n",
    "        if(word[i] != word[len(word) - i - 1]):\n",
    "            isPalindrome = False\n",
    "            break\n",
    "    if(isPalindrome):\n",
    "        count = count + 1\n",
    "\n",
    "print(\"There are %d palindromes in the sentence\" % count)\n",
    "    "
   ]
  },
  {
   "cell_type": "markdown",
   "metadata": {},
   "source": [
    "2. Create a list of int using list comprehension [multiple input from keyboard].  Find the mean, median, and mode of the given list."
   ]
  },
  {
   "cell_type": "code",
   "execution_count": 20,
   "metadata": {},
   "outputs": [
    {
     "name": "stdout",
     "output_type": "stream",
     "text": [
      "[2, 2, 4, 6, 8, 9]\n",
      "Mean: 5.166667\n",
      "Median: 5.000000\n",
      "Mode: 2\n",
      "\n"
     ]
    }
   ],
   "source": [
    "nums = [int(num) for num in input(\"Enter numbers(space separated): \").split(\" \")]\n",
    "print(nums)\n",
    "mean = sum(nums) / len(nums)\n",
    "median = sorted(nums)[len(nums) // 2] if (len(nums) % 2 != 0) else (sorted(nums)[len(nums) // 2] + sorted(nums)[len(nums) // 2 - 1]) / 2\n",
    "mode = 0\n",
    "maxfreq = 0\n",
    "for e in nums:\n",
    "    if(nums.count(e) > maxfreq):\n",
    "        maxfreq = nums.count(mode)\n",
    "        mode = e\n",
    "\n",
    "print(\"Mean: %f\\nMedian: %f\\nMode: %d\\n\" % (mean, median, mode))"
   ]
  },
  {
   "cell_type": "markdown",
   "metadata": {},
   "source": [
    "3. Generate 2 lists (course code and course name). create a new list with both course code and name like[\"CS1001:Python\",...]"
   ]
  },
  {
   "cell_type": "code",
   "execution_count": 21,
   "metadata": {},
   "outputs": [
    {
     "name": "stdout",
     "output_type": "stream",
     "text": [
      "['CS2001:Python', 'MA2001:Mathematics', 'CS2003:COA', 'CS2005:TOC', 'CS2007:FOA', 'HS2001:Management', 'CS2101:Python Lab', 'CS2103:COA Lab', 'CS2107:Algorithms Lab']\n"
     ]
    }
   ],
   "source": [
    "course_code = [\"CS2001\", \"MA2001\", \"CS2003\", \"CS2005\", \"CS2007\", \"HS2001\", \"CS2101\", \"CS2103\", \"CS2107\"]\n",
    "course_name = [\"Python\", \"Mathematics\", \"COA\", \"TOC\", \"FOA\", \"Management\", \"Python Lab\", \"COA Lab\", \"Algorithms Lab\"]\n",
    "\n",
    "courses = [cc + \":\" + cn for (cc, cn) in tuple(zip(course_code, course_name))]\n",
    "print(courses)"
   ]
  },
  {
   "cell_type": "markdown",
   "metadata": {},
   "source": [
    "4. Generate two sets – first for all singers and second for all dancers of the class using set comprehension. Perform set operations to generate the following sets \n",
    "of all artists of the class\n",
    " - allrounders of the class\n",
    " - dancers but not singers\n",
    " - singers but not dancers\n",
    " - dancers but not singers cum singers but not dancers\n"
   ]
  },
  {
   "cell_type": "code",
   "execution_count": 3,
   "metadata": {},
   "outputs": [
    {
     "name": "stdout",
     "output_type": "stream",
     "text": [
      "Allrounders: {'Aagaman'}\n",
      "Dancers but not singers: {'ss groups pvt ltd', 'Hitesh', 'Ankur'}\n",
      "Singers but not dancers: {'Shubham', 'Amrit Sagar', 'Gyan Prakash'}\n",
      "Dancers but not singers cum singers but not dancers: {'Ankur', 'Hitesh', 'ss groups pvt ltd', 'Shubham', 'Amrit Sagar', 'Gyan Prakash'}\n"
     ]
    }
   ],
   "source": [
    "singers = {\"Shubham\", \"Aagaman\", \"Amrit Sagar\", \"Gyan Prakash\"}\n",
    "dancers = {\"ss groups pvt ltd\", \"Aagaman\", \"Ankur\", \"Hitesh\"}\n",
    "\n",
    "print(\"Allrounders: \" + str(singers & dancers))\n",
    "print(\"Dancers but not singers: \" + str(dancers - singers))\n",
    "print(\"Singers but not dancers: \" + str(singers - dancers))\n",
    "print(\"Dancers but not singers cum singers but not dancers: \" + str((dancers - singers) | (singers - dancers)))"
   ]
  }
 ],
 "metadata": {
  "kernelspec": {
   "display_name": "Python 3",
   "language": "python",
   "name": "python3"
  },
  "language_info": {
   "codemirror_mode": {
    "name": "ipython",
    "version": 3
   },
   "file_extension": ".py",
   "mimetype": "text/x-python",
   "name": "python",
   "nbconvert_exporter": "python",
   "pygments_lexer": "ipython3",
   "version": "3.12.3"
  }
 },
 "nbformat": 4,
 "nbformat_minor": 2
}
