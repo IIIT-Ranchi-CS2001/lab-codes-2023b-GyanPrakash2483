{
 "cells": [
  {
   "cell_type": "markdown",
   "metadata": {},
   "source": [
    "1. Find the sum of n terms of exponential series.  \n",
    "    cos(x) = 1 - x^2/2! + x^4/4! - ...  \n",
    "    (Hint: Use Recursion)  "
   ]
  },
  {
   "cell_type": "code",
   "execution_count": 16,
   "metadata": {},
   "outputs": [
    {
     "name": "stdout",
     "output_type": "stream",
     "text": [
      "-1.0000000000000002\n"
     ]
    }
   ],
   "source": [
    "def factorial(n:int) -> int:\n",
    "    if(n <= 1):\n",
    "        return 1\n",
    "    return n * factorial(n-1)\n",
    "\n",
    "def cos(x:float, n:int) -> float:\n",
    "    if(n == 0):\n",
    "        return 0\n",
    "    if(n == 1):\n",
    "        return 1\n",
    "    return (-1 if 2 * (n-1) % 4 != 0 else 1) * ((x ** (2 * (n-1))) / (factorial(2 * (n-1)))) + cos(x, n-1)\n",
    "\n",
    "print(cos(3.14159265359 , 30))"
   ]
  },
  {
   "cell_type": "markdown",
   "metadata": {},
   "source": [
    "2. Given a set of 10 cartoon students from a python class Tom, Jerry, Pikachu, Spidey, Doremon, Chota Bheem, Nagraj, Balveer, Motu and Patlu where three students went for the plantation drive (Spidey, Motu and Patlu), three students went to military exhibition(Nagraj, Pikachu, Spidey) and Doremon and Balveer only attended the class. Write a python script to determine.\n",
    "   1. Who attended both events\n",
    "   2. Who attended only one event\n",
    "   3. Who bunked the class"
   ]
  },
  {
   "cell_type": "code",
   "execution_count": 20,
   "metadata": {},
   "outputs": [
    {
     "name": "stdout",
     "output_type": "stream",
     "text": [
      "Students attending both events: {'Spidey'}\n",
      "Students attending one event: {'Pikachu', 'Nagraj', 'Motu', 'Patlu'}\n",
      "Students who bunked class: {'Chota Bheem', 'Tom', 'Jerry'}\n"
     ]
    }
   ],
   "source": [
    "students = {\"Tom\", \"Jerry\", \"Pikachu\", \"Spidey\", \"Doremon\", \"Chota Bheem\", \"Nagraj\", \"Balveer\", \"Motu\", \"Patlu\"}\n",
    "plantation = {\"Spidey\", \"Motu\", \"Patlu\"}\n",
    "military = {\"Nagraj\", \"Pikachu\", \"Spidey\"}\n",
    "attendClass = {\"Doremon\", \"Balveer\"}\n",
    "\n",
    "bothEvents = plantation & military\n",
    "oneEvent = plantation ^ military\n",
    "bunkedClass = students - (plantation | military | attendClass)\n",
    "\n",
    "print(\"Students attending both events: \" + str(bothEvents))\n",
    "print(\"Students attending one event: \" + str(oneEvent))\n",
    "print(\"Students who bunked class: \" + str(bunkedClass))"
   ]
  }
 ],
 "metadata": {
  "kernelspec": {
   "display_name": "Python 3",
   "language": "python",
   "name": "python3"
  },
  "language_info": {
   "codemirror_mode": {
    "name": "ipython",
    "version": 3
   },
   "file_extension": ".py",
   "mimetype": "text/x-python",
   "name": "python",
   "nbconvert_exporter": "python",
   "pygments_lexer": "ipython3",
   "version": "3.12.3"
  }
 },
 "nbformat": 4,
 "nbformat_minor": 2
}
