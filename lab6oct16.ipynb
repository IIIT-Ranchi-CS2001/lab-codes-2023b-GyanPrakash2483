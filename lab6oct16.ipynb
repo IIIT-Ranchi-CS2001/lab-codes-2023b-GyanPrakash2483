{
 "cells": [
  {
   "cell_type": "markdown",
   "metadata": {},
   "source": [
    "1. Define a function my_zip() that can form a list of tuples by iterating the following customer details:- customer Name, customer ID , shopping points’ and based on the keyword parameter strct:   \n",
    "If strct = True, zipping shall be done only if all lists are of equal length. If strct = False, zipping can be done by taking the minimum length of the iterable.\n"
   ]
  },
  {
   "cell_type": "code",
   "execution_count": 14,
   "metadata": {},
   "outputs": [
    {
     "name": "stdout",
     "output_type": "stream",
     "text": [
      "[('Gyan', 1, 'Kolkata market'), ('Prakash', 2, 'Judio')]\n"
     ]
    }
   ],
   "source": [
    "def my_zip(*args, strct = False) -> list:\n",
    "    if(strct and False in [len(args[i]) == len(args[i+1]) for i in range(len(args) - 1)]):\n",
    "        print(\"ERROR: Unequal length of iterators\")\n",
    "        return None\n",
    "    \n",
    "    # get minimum length of iterables\n",
    "    n = min([len(iterable) for iterable in args])\n",
    "    listoftuples = list(tuple(iterable[i] for iterable in args) for i in range(n))\n",
    "    return listoftuples\n",
    "\n",
    "customerName = [\"Gyan\", \"Prakash\", \"Shubham\"]\n",
    "customerId = [1, 2, 3]\n",
    "shoppingPoints = [\"Kolkata market\", \"Judio\"]\n",
    "\n",
    "print(my_zip(customerName, customerId, shoppingPoints))"
   ]
  },
  {
   "cell_type": "code",
   "execution_count": null,
   "metadata": {},
   "outputs": [],
   "source": []
  }
 ],
 "metadata": {
  "kernelspec": {
   "display_name": "Python 3",
   "language": "python",
   "name": "python3"
  },
  "language_info": {
   "codemirror_mode": {
    "name": "ipython",
    "version": 3
   },
   "file_extension": ".py",
   "mimetype": "text/x-python",
   "name": "python",
   "nbconvert_exporter": "python",
   "pygments_lexer": "ipython3",
   "version": "3.12.3"
  }
 },
 "nbformat": 4,
 "nbformat_minor": 2
}
