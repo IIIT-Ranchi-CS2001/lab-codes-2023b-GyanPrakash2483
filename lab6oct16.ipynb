{
 "cells": [
  {
   "cell_type": "markdown",
   "metadata": {},
   "source": [
    "1. Define a function my_zip() that can form a list of tuples by iterating the following customer details:- customer Name, customer ID , shopping points’ and based on the keyword parameter strct:   \n",
    "If strct = True, zipping shall be done only if all lists are of equal length. If strct = False, zipping can be done by taking the minimum length of the iterable.\n"
   ]
  },
  {
   "cell_type": "code",
   "execution_count": 16,
   "metadata": {},
   "outputs": [
    {
     "name": "stdout",
     "output_type": "stream",
     "text": [
      "[('Gyan', 1, 'Kolkata market'), ('Prakash', 2, 'Judio')]\n"
     ]
    }
   ],
   "source": [
    "def my_zip(*args: list, strct: bool = False) -> list:\n",
    "    if(strct and False in [len(args[i]) == len(args[i+1]) for i in range(len(args) - 1)]):\n",
    "        print(\"ERROR: Unequal length of iterators\")\n",
    "        return None\n",
    "    \n",
    "    # get minimum length of iterables\n",
    "    n = min([len(iterable) for iterable in args])\n",
    "    listoftuples = list(tuple(iterable[i] for iterable in args) for i in range(n))\n",
    "    return listoftuples\n",
    "\n",
    "customerName = [\"Gyan\", \"Prakash\", \"Shubham\"]\n",
    "customerId = [1, 2, 3]\n",
    "shoppingPoints = [\"Kolkata market\", \"Judio\"]\n",
    "\n",
    "zippedlist = my_zip(customerName, customerId, shoppingPoints)\n",
    "\n",
    "print(zippedlist)"
   ]
  },
  {
   "cell_type": "markdown",
   "metadata": {},
   "source": [
    "2. Define a function my_sort() to sort the list of tuples created using my_zip function in the last question. The function must have two types of arguments- the list that carry the data, the key that determines the argument of sorting:\n",
    "[Usage of built-in function sorted() is a punishable offense]\n",
    "Key = 0: sorting based on customer name in ascending order\n",
    "Key = 1: sorting based on Customer ID\n",
    "Key = 2: sorting based on shopping points"
   ]
  },
  {
   "cell_type": "code",
   "execution_count": 18,
   "metadata": {},
   "outputs": [
    {
     "name": "stdout",
     "output_type": "stream",
     "text": [
      "[('Prakash', 2, 'Judio'), ('Gyan', 1, 'Kolkata market')]\n"
     ]
    }
   ],
   "source": [
    "def my_sort(zipped_list: list, key: int = 0) -> list:\n",
    "    sorted_zipped_list = [t for t in zipped_list]  #deep copy\n",
    "    for i in range(len(sorted_zipped_list)):\n",
    "        for j in range(i, len(sorted_zipped_list)):\n",
    "            if(sorted_zipped_list[i][key] > sorted_zipped_list[j][key]):\n",
    "                sorted_zipped_list[i], sorted_zipped_list[j] = sorted_zipped_list[j], sorted_zipped_list[i]\n",
    "\n",
    "    return sorted_zipped_list\n",
    "\n",
    "\n",
    "print(my_sort(zippedlist, 2))\n",
    "\n",
    "        "
   ]
  },
  {
   "cell_type": "markdown",
   "metadata": {},
   "source": [
    "3. Write program to define a function my_max() to complete the following tasks: [Usage of built-in function max() is strictly prohibited]\n",
    " - If a list of integers is passed as the input argument, the function shall return maximum value present in the list\n",
    " - If a set is passed, maximum value present in the list\n",
    " - If a tuple is passed, maximum value present in the tuple   \n",
    "    Hint: Pass the container type unpacked using *\n"
   ]
  },
  {
   "cell_type": "code",
   "execution_count": 25,
   "metadata": {},
   "outputs": [
    {
     "name": "stdout",
     "output_type": "stream",
     "text": [
      "5\n"
     ]
    }
   ],
   "source": [
    "import math\n",
    "\n",
    "def my_max(iterable: list | tuple | set) -> int:\n",
    "    max: int = -math.inf\n",
    "    for i in iterable:\n",
    "        if i > max:\n",
    "            max = i\n",
    "    return max\n",
    "\n",
    "print(my_max({1, 2, 3, 4, 5}))\n"
   ]
  },
  {
   "cell_type": "markdown",
   "metadata": {},
   "source": [
    "4. Write a python script using map, lambda and filter functions to do the following operations on a user inputted comma separated strings: E.g.: “Tom 25 Rahu22 2@$”   \n",
    "- To find all the letters given in the string and to convert them to uppercase  \n",
    "o/p: [‘TOM’]  \n",
    " - To find all the digits present in the string and to find their squares  \n",
    "o/p: [625]  \n",
    " - To display all the alphanumeric characters present in the string  \n",
    "o/p: [“Tom”, ‘25’, “Rahu22”]  \n"
   ]
  },
  {
   "cell_type": "code",
   "execution_count": 28,
   "metadata": {},
   "outputs": [
    {
     "name": "stdout",
     "output_type": "stream",
     "text": [
      "All Letters: ['TOM']\n",
      "All Digits: [625]\n",
      "All Alphanumeric: ['Tom', '25', 'Rahu22']\n"
     ]
    }
   ],
   "source": [
    "strings = [i for i in input(\"Enter strings\").split()]\n",
    "\n",
    "allletters = list(map(lambda string: string.upper(), filter(lambda string: string.isalpha(), strings)))\n",
    "alldigits = list(map(lambda num: int(num) * int(num), filter(lambda string: string.isdigit(), strings)))\n",
    "allalnum = list(filter(lambda string: string.isalnum(), strings))\n",
    "\n",
    "print(f\"All Letters: {allletters}\")\n",
    "print(f\"All Digits: {alldigits}\")\n",
    "print(f\"All Alphanumeric: {allalnum}\")"
   ]
  }
 ],
 "metadata": {
  "kernelspec": {
   "display_name": "Python 3",
   "language": "python",
   "name": "python3"
  },
  "language_info": {
   "codemirror_mode": {
    "name": "ipython",
    "version": 3
   },
   "file_extension": ".py",
   "mimetype": "text/x-python",
   "name": "python",
   "nbconvert_exporter": "python",
   "pygments_lexer": "ipython3",
   "version": "3.12.3"
  }
 },
 "nbformat": 4,
 "nbformat_minor": 2
}
